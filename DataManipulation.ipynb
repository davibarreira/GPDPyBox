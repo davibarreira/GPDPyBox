{
 "cells": [
  {
   "cell_type": "markdown",
   "metadata": {},
   "source": [
    "# Manipulação Básica de Dados"
   ]
  },
  {
   "cell_type": "markdown",
   "metadata": {},
   "source": [
    "## 1. Importando e Corrigindo dados\n",
    "Dados foram importados de planilha de Excel e arquivos de texto.\n",
    "Atraves de \"merge\" foram criadas demais colunas no banco de dados principais."
   ]
  },
  {
   "cell_type": "code",
   "execution_count": 21,
   "metadata": {
    "collapsed": true
   },
   "outputs": [],
   "source": [
    "# O comando abaixo deve ser rodado no termial para que os widgets aparecam\n",
    "# jupyter nbextension enable --py widgetsnbextension \n",
    "%matplotlib inline\n",
    "import numpy as np\n",
    "from matplotlib import pyplot as plt\n",
    "import scipy.stats as stats\n",
    "from IPython.core.pylabtools import figsize\n",
    "\n",
    "import seaborn as sns\n",
    "sns.set_style(\"dark\")\n",
    "# sns.set_style(\"darkgrid\")\n",
    "# sns.set_context(\"talk\")\n",
    "import pandas as pd\n",
    "\n",
    "import missingno as msno"
   ]
  },
  {
   "cell_type": "markdown",
   "metadata": {},
   "source": [
    "Primeiro passo consiste em importar as bibliotecas."
   ]
  },
  {
   "cell_type": "code",
   "execution_count": 22,
   "metadata": {
    "collapsed": true
   },
   "outputs": [],
   "source": [
    "folder     = 'SampleDataBase/ExampleSalesData/' #Definir pasta de onde virão os dados\n",
    "data       = pd.read_table(folder+\"Base_dados.txt\")\n",
    "produto    = pd.read_excel(folder+\"Curso_Excel.xlsm\",sheetname=0)\n",
    "marca      = pd.read_excel(folder+\"Curso_Excel.xlsm\",sheetname=1)\n",
    "vendedores = pd.read_table(folder+\"Base_Vendedores.txt\", sep=';',decimal=',')"
   ]
  },
  {
   "cell_type": "code",
   "execution_count": 23,
   "metadata": {},
   "outputs": [
    {
     "name": "stdout",
     "output_type": "stream",
     "text": [
      "data\n",
      " \n",
      "DATA                object\n",
      "COD_ITEM            object\n",
      "COD_VENDEDOR         int64\n",
      "VOLUME_META          int64\n",
      "RECEITA_META         int64\n",
      "VOLUME_FATURADO      int64\n",
      "RECEITA_FATURADO     int64\n",
      "dtype: object\n",
      "--\n",
      "produto\n",
      " \n",
      "COD_PRODUTO     object\n",
      "NOME_PRODUTO    object\n",
      "dtype: object\n",
      "--\n",
      "marca\n",
      " \n",
      "COD_MARCA     object\n",
      "NOME_MARCA    object\n",
      "dtype: object\n",
      "--\n",
      "vendedores\n",
      " \n",
      "COD_VENDEDOR     float64\n",
      "NOME_VENDEDOR     object\n",
      "FILIAL            object\n",
      "dtype: object\n"
     ]
    }
   ],
   "source": [
    "print('data')\n",
    "print(' ')\n",
    "print(data.dtypes)\n",
    "print('--')\n",
    "print('produto')\n",
    "print(' ')\n",
    "print(produto.dtypes)\n",
    "\n",
    "print('--')\n",
    "print('marca')\n",
    "print(' ')\n",
    "print(marca.dtypes)\n",
    "\n",
    "print('--')\n",
    "print('vendedores')\n",
    "print(' ')\n",
    "print(vendedores.dtypes)"
   ]
  },
  {
   "cell_type": "code",
   "execution_count": 5,
   "metadata": {
    "scrolled": true
   },
   "outputs": [
    {
     "data": {
      "text/html": [
       "<div>\n",
       "<style>\n",
       "    .dataframe thead tr:only-child th {\n",
       "        text-align: right;\n",
       "    }\n",
       "\n",
       "    .dataframe thead th {\n",
       "        text-align: left;\n",
       "    }\n",
       "\n",
       "    .dataframe tbody tr th {\n",
       "        vertical-align: top;\n",
       "    }\n",
       "</style>\n",
       "<table border=\"1\" class=\"dataframe\">\n",
       "  <thead>\n",
       "    <tr style=\"text-align: right;\">\n",
       "      <th></th>\n",
       "      <th>DATA</th>\n",
       "      <th>COD_ITEM</th>\n",
       "      <th>COD_VENDEDOR</th>\n",
       "      <th>VOLUME_META</th>\n",
       "      <th>RECEITA_META</th>\n",
       "      <th>VOLUME_FATURADO</th>\n",
       "      <th>RECEITA_FATURADO</th>\n",
       "    </tr>\n",
       "  </thead>\n",
       "  <tbody>\n",
       "    <tr>\n",
       "      <th>0</th>\n",
       "      <td>1/3/2002</td>\n",
       "      <td>AC08</td>\n",
       "      <td>13</td>\n",
       "      <td>13</td>\n",
       "      <td>6630</td>\n",
       "      <td>6</td>\n",
       "      <td>3102</td>\n",
       "    </tr>\n",
       "    <tr>\n",
       "      <th>1</th>\n",
       "      <td>1/3/2002</td>\n",
       "      <td>AC08</td>\n",
       "      <td>18</td>\n",
       "      <td>9</td>\n",
       "      <td>4590</td>\n",
       "      <td>6</td>\n",
       "      <td>3559</td>\n",
       "    </tr>\n",
       "    <tr>\n",
       "      <th>2</th>\n",
       "      <td>1/3/2002</td>\n",
       "      <td>AC08</td>\n",
       "      <td>28</td>\n",
       "      <td>14</td>\n",
       "      <td>7140</td>\n",
       "      <td>7</td>\n",
       "      <td>2981</td>\n",
       "    </tr>\n",
       "    <tr>\n",
       "      <th>3</th>\n",
       "      <td>1/3/2002</td>\n",
       "      <td>AC08</td>\n",
       "      <td>1033</td>\n",
       "      <td>5</td>\n",
       "      <td>2550</td>\n",
       "      <td>4</td>\n",
       "      <td>1844</td>\n",
       "    </tr>\n",
       "    <tr>\n",
       "      <th>4</th>\n",
       "      <td>1/3/2002</td>\n",
       "      <td>FB04</td>\n",
       "      <td>6</td>\n",
       "      <td>13</td>\n",
       "      <td>6825</td>\n",
       "      <td>7</td>\n",
       "      <td>4220</td>\n",
       "    </tr>\n",
       "  </tbody>\n",
       "</table>\n",
       "</div>"
      ],
      "text/plain": [
       "       DATA COD_ITEM  COD_VENDEDOR  VOLUME_META  RECEITA_META  \\\n",
       "0  1/3/2002     AC08            13           13          6630   \n",
       "1  1/3/2002     AC08            18            9          4590   \n",
       "2  1/3/2002     AC08            28           14          7140   \n",
       "3  1/3/2002     AC08          1033            5          2550   \n",
       "4  1/3/2002     FB04             6           13          6825   \n",
       "\n",
       "   VOLUME_FATURADO  RECEITA_FATURADO  \n",
       "0                6              3102  \n",
       "1                6              3559  \n",
       "2                7              2981  \n",
       "3                4              1844  \n",
       "4                7              4220  "
      ]
     },
     "execution_count": 5,
     "metadata": {},
     "output_type": "execute_result"
    }
   ],
   "source": [
    "data.head()"
   ]
  },
  {
   "cell_type": "code",
   "execution_count": 24,
   "metadata": {
    "scrolled": true
   },
   "outputs": [
    {
     "data": {
      "text/html": [
       "<div>\n",
       "<style>\n",
       "    .dataframe thead tr:only-child th {\n",
       "        text-align: right;\n",
       "    }\n",
       "\n",
       "    .dataframe thead th {\n",
       "        text-align: left;\n",
       "    }\n",
       "\n",
       "    .dataframe tbody tr th {\n",
       "        vertical-align: top;\n",
       "    }\n",
       "</style>\n",
       "<table border=\"1\" class=\"dataframe\">\n",
       "  <thead>\n",
       "    <tr style=\"text-align: right;\">\n",
       "      <th></th>\n",
       "      <th>COD_VENDEDOR</th>\n",
       "      <th>VOLUME_META</th>\n",
       "      <th>RECEITA_META</th>\n",
       "      <th>VOLUME_FATURADO</th>\n",
       "      <th>RECEITA_FATURADO</th>\n",
       "    </tr>\n",
       "  </thead>\n",
       "  <tbody>\n",
       "    <tr>\n",
       "      <th>count</th>\n",
       "      <td>6675.000000</td>\n",
       "      <td>6675.000000</td>\n",
       "      <td>6675.000000</td>\n",
       "      <td>6675.000000</td>\n",
       "      <td>6675.000000</td>\n",
       "    </tr>\n",
       "    <tr>\n",
       "      <th>mean</th>\n",
       "      <td>248.585468</td>\n",
       "      <td>9.268464</td>\n",
       "      <td>6269.421723</td>\n",
       "      <td>9.292734</td>\n",
       "      <td>6548.154157</td>\n",
       "    </tr>\n",
       "    <tr>\n",
       "      <th>std</th>\n",
       "      <td>424.717730</td>\n",
       "      <td>5.539069</td>\n",
       "      <td>4641.905489</td>\n",
       "      <td>5.459443</td>\n",
       "      <td>4746.902883</td>\n",
       "    </tr>\n",
       "    <tr>\n",
       "      <th>min</th>\n",
       "      <td>1.000000</td>\n",
       "      <td>1.000000</td>\n",
       "      <td>300.000000</td>\n",
       "      <td>1.000000</td>\n",
       "      <td>250.000000</td>\n",
       "    </tr>\n",
       "    <tr>\n",
       "      <th>25%</th>\n",
       "      <td>9.000000</td>\n",
       "      <td>5.000000</td>\n",
       "      <td>2800.000000</td>\n",
       "      <td>5.000000</td>\n",
       "      <td>3083.500000</td>\n",
       "    </tr>\n",
       "    <tr>\n",
       "      <th>50%</th>\n",
       "      <td>18.000000</td>\n",
       "      <td>9.000000</td>\n",
       "      <td>5390.000000</td>\n",
       "      <td>9.000000</td>\n",
       "      <td>5535.000000</td>\n",
       "    </tr>\n",
       "    <tr>\n",
       "      <th>75%</th>\n",
       "      <td>32.000000</td>\n",
       "      <td>13.000000</td>\n",
       "      <td>8260.000000</td>\n",
       "      <td>13.000000</td>\n",
       "      <td>8779.000000</td>\n",
       "    </tr>\n",
       "    <tr>\n",
       "      <th>max</th>\n",
       "      <td>1265.000000</td>\n",
       "      <td>45.000000</td>\n",
       "      <td>51750.000000</td>\n",
       "      <td>51.000000</td>\n",
       "      <td>44406.000000</td>\n",
       "    </tr>\n",
       "  </tbody>\n",
       "</table>\n",
       "</div>"
      ],
      "text/plain": [
       "       COD_VENDEDOR  VOLUME_META  RECEITA_META  VOLUME_FATURADO  \\\n",
       "count   6675.000000  6675.000000   6675.000000      6675.000000   \n",
       "mean     248.585468     9.268464   6269.421723         9.292734   \n",
       "std      424.717730     5.539069   4641.905489         5.459443   \n",
       "min        1.000000     1.000000    300.000000         1.000000   \n",
       "25%        9.000000     5.000000   2800.000000         5.000000   \n",
       "50%       18.000000     9.000000   5390.000000         9.000000   \n",
       "75%       32.000000    13.000000   8260.000000        13.000000   \n",
       "max     1265.000000    45.000000  51750.000000        51.000000   \n",
       "\n",
       "       RECEITA_FATURADO  \n",
       "count       6675.000000  \n",
       "mean        6548.154157  \n",
       "std         4746.902883  \n",
       "min          250.000000  \n",
       "25%         3083.500000  \n",
       "50%         5535.000000  \n",
       "75%         8779.000000  \n",
       "max        44406.000000  "
      ]
     },
     "execution_count": 24,
     "metadata": {},
     "output_type": "execute_result"
    }
   ],
   "source": [
    "data.describe()"
   ]
  },
  {
   "cell_type": "code",
   "execution_count": 25,
   "metadata": {
    "scrolled": true
   },
   "outputs": [
    {
     "data": {
      "text/html": [
       "<div>\n",
       "<style>\n",
       "    .dataframe thead tr:only-child th {\n",
       "        text-align: right;\n",
       "    }\n",
       "\n",
       "    .dataframe thead th {\n",
       "        text-align: left;\n",
       "    }\n",
       "\n",
       "    .dataframe tbody tr th {\n",
       "        vertical-align: top;\n",
       "    }\n",
       "</style>\n",
       "<table border=\"1\" class=\"dataframe\">\n",
       "  <thead>\n",
       "    <tr style=\"text-align: right;\">\n",
       "      <th></th>\n",
       "      <th>COD_MARCA</th>\n",
       "      <th>NOME_MARCA</th>\n",
       "    </tr>\n",
       "  </thead>\n",
       "  <tbody>\n",
       "    <tr>\n",
       "      <th>0</th>\n",
       "      <td>B</td>\n",
       "      <td>Brastemp</td>\n",
       "    </tr>\n",
       "    <tr>\n",
       "      <th>1</th>\n",
       "      <td>C</td>\n",
       "      <td>Cônsul</td>\n",
       "    </tr>\n",
       "  </tbody>\n",
       "</table>\n",
       "</div>"
      ],
      "text/plain": [
       "  COD_MARCA NOME_MARCA\n",
       "0         B   Brastemp\n",
       "1         C     Cônsul"
      ]
     },
     "execution_count": 25,
     "metadata": {},
     "output_type": "execute_result"
    }
   ],
   "source": [
    "# plt.plot(data.VOLUME_META,data.VOLUME_FATURADO,'o')\n",
    "marca"
   ]
  },
  {
   "cell_type": "code",
   "execution_count": 26,
   "metadata": {},
   "outputs": [
    {
     "data": {
      "text/html": [
       "<div>\n",
       "<style>\n",
       "    .dataframe thead tr:only-child th {\n",
       "        text-align: right;\n",
       "    }\n",
       "\n",
       "    .dataframe thead th {\n",
       "        text-align: left;\n",
       "    }\n",
       "\n",
       "    .dataframe tbody tr th {\n",
       "        vertical-align: top;\n",
       "    }\n",
       "</style>\n",
       "<table border=\"1\" class=\"dataframe\">\n",
       "  <thead>\n",
       "    <tr style=\"text-align: right;\">\n",
       "      <th></th>\n",
       "      <th>COD_PRODUTO</th>\n",
       "      <th>NOME_PRODUTO</th>\n",
       "    </tr>\n",
       "  </thead>\n",
       "  <tbody>\n",
       "    <tr>\n",
       "      <th>0</th>\n",
       "      <td>F</td>\n",
       "      <td>Fogão</td>\n",
       "    </tr>\n",
       "    <tr>\n",
       "      <th>1</th>\n",
       "      <td>R</td>\n",
       "      <td>Refrigerador</td>\n",
       "    </tr>\n",
       "    <tr>\n",
       "      <th>2</th>\n",
       "      <td>L</td>\n",
       "      <td>Lava-Louças</td>\n",
       "    </tr>\n",
       "    <tr>\n",
       "      <th>3</th>\n",
       "      <td>A</td>\n",
       "      <td>Ar-Condicionado</td>\n",
       "    </tr>\n",
       "  </tbody>\n",
       "</table>\n",
       "</div>"
      ],
      "text/plain": [
       "  COD_PRODUTO     NOME_PRODUTO\n",
       "0           F            Fogão\n",
       "1           R     Refrigerador\n",
       "2           L      Lava-Louças\n",
       "3           A  Ar-Condicionado"
      ]
     },
     "execution_count": 26,
     "metadata": {},
     "output_type": "execute_result"
    }
   ],
   "source": [
    "produto.head()"
   ]
  },
  {
   "cell_type": "code",
   "execution_count": 27,
   "metadata": {},
   "outputs": [
    {
     "data": {
      "text/html": [
       "<div>\n",
       "<style>\n",
       "    .dataframe thead tr:only-child th {\n",
       "        text-align: right;\n",
       "    }\n",
       "\n",
       "    .dataframe thead th {\n",
       "        text-align: left;\n",
       "    }\n",
       "\n",
       "    .dataframe tbody tr th {\n",
       "        vertical-align: top;\n",
       "    }\n",
       "</style>\n",
       "<table border=\"1\" class=\"dataframe\">\n",
       "  <thead>\n",
       "    <tr style=\"text-align: right;\">\n",
       "      <th></th>\n",
       "      <th>COD_VENDEDOR</th>\n",
       "      <th>NOME_VENDEDOR</th>\n",
       "      <th>FILIAL</th>\n",
       "    </tr>\n",
       "  </thead>\n",
       "  <tbody>\n",
       "    <tr>\n",
       "      <th>0</th>\n",
       "      <td>1.0</td>\n",
       "      <td>ADONAY LARONGA</td>\n",
       "      <td>SUL</td>\n",
       "    </tr>\n",
       "    <tr>\n",
       "      <th>1</th>\n",
       "      <td>3.0</td>\n",
       "      <td>OSWALDO LOPES DA SILVA</td>\n",
       "      <td>NORDESTE</td>\n",
       "    </tr>\n",
       "    <tr>\n",
       "      <th>2</th>\n",
       "      <td>4.0</td>\n",
       "      <td>MARIO JARBAS V.DO A JUNIOR</td>\n",
       "      <td>NORDESTE</td>\n",
       "    </tr>\n",
       "    <tr>\n",
       "      <th>3</th>\n",
       "      <td>5.0</td>\n",
       "      <td>ANGELA CRISTINA CRIVELARO FONS</td>\n",
       "      <td>SUDESTE</td>\n",
       "    </tr>\n",
       "    <tr>\n",
       "      <th>4</th>\n",
       "      <td>6.0</td>\n",
       "      <td>MANOEL DO PRADO</td>\n",
       "      <td>SUDESTE</td>\n",
       "    </tr>\n",
       "  </tbody>\n",
       "</table>\n",
       "</div>"
      ],
      "text/plain": [
       "   COD_VENDEDOR                   NOME_VENDEDOR    FILIAL\n",
       "0           1.0                  ADONAY LARONGA       SUL\n",
       "1           3.0          OSWALDO LOPES DA SILVA  NORDESTE\n",
       "2           4.0      MARIO JARBAS V.DO A JUNIOR  NORDESTE\n",
       "3           5.0  ANGELA CRISTINA CRIVELARO FONS   SUDESTE\n",
       "4           6.0                 MANOEL DO PRADO   SUDESTE"
      ]
     },
     "execution_count": 27,
     "metadata": {},
     "output_type": "execute_result"
    }
   ],
   "source": [
    "vendedores.head()"
   ]
  },
  {
   "cell_type": "code",
   "execution_count": 28,
   "metadata": {
    "collapsed": true
   },
   "outputs": [],
   "source": [
    "#Ajustando o tipo de dado\n",
    "\n",
    "data.DATA  = pd.to_datetime(data.DATA,infer_datetime_format=True) #Ajustando formato para data\n",
    "# data.DATA  = pd.to_datetime(data.DATA,format='%d/%m/%Y') #Ajustando formato para data usando \"format\"\n",
    "\n",
    "vendedores.COD_VENDEDOR = vendedores.COD_VENDEDOR.astype(int) #\n",
    "\n",
    "data['COD_PRODUTO'] = data.COD_ITEM.str[0]\n",
    "data['COD_MARCA']   = data.COD_ITEM.str[1]"
   ]
  },
  {
   "cell_type": "code",
   "execution_count": 29,
   "metadata": {
    "collapsed": true
   },
   "outputs": [],
   "source": [
    "data = pd.merge(data,vendedores,on='COD_VENDEDOR',how='outer')\n",
    "data = pd.merge(data,produto,on='COD_PRODUTO',how='outer')\n",
    "data = pd.merge(data,marca,on='COD_MARCA',how='outer')"
   ]
  },
  {
   "cell_type": "code",
   "execution_count": 30,
   "metadata": {
    "scrolled": false
   },
   "outputs": [
    {
     "data": {
      "text/html": [
       "<div>\n",
       "<style>\n",
       "    .dataframe thead tr:only-child th {\n",
       "        text-align: right;\n",
       "    }\n",
       "\n",
       "    .dataframe thead th {\n",
       "        text-align: left;\n",
       "    }\n",
       "\n",
       "    .dataframe tbody tr th {\n",
       "        vertical-align: top;\n",
       "    }\n",
       "</style>\n",
       "<table border=\"1\" class=\"dataframe\">\n",
       "  <thead>\n",
       "    <tr style=\"text-align: right;\">\n",
       "      <th></th>\n",
       "      <th>DATA</th>\n",
       "      <th>COD_ITEM</th>\n",
       "      <th>COD_VENDEDOR</th>\n",
       "      <th>VOLUME_META</th>\n",
       "      <th>RECEITA_META</th>\n",
       "      <th>VOLUME_FATURADO</th>\n",
       "      <th>RECEITA_FATURADO</th>\n",
       "      <th>COD_PRODUTO</th>\n",
       "      <th>COD_MARCA</th>\n",
       "      <th>NOME_VENDEDOR</th>\n",
       "      <th>FILIAL</th>\n",
       "      <th>NOME_PRODUTO</th>\n",
       "      <th>NOME_MARCA</th>\n",
       "    </tr>\n",
       "  </thead>\n",
       "  <tbody>\n",
       "    <tr>\n",
       "      <th>0</th>\n",
       "      <td>2002-01-03</td>\n",
       "      <td>AC08</td>\n",
       "      <td>13</td>\n",
       "      <td>13</td>\n",
       "      <td>6630</td>\n",
       "      <td>6</td>\n",
       "      <td>3102</td>\n",
       "      <td>A</td>\n",
       "      <td>C</td>\n",
       "      <td>JANETE APARECIDA ANDRADE</td>\n",
       "      <td>NORDESTE</td>\n",
       "      <td>Ar-Condicionado</td>\n",
       "      <td>Cônsul</td>\n",
       "    </tr>\n",
       "    <tr>\n",
       "      <th>1</th>\n",
       "      <td>2002-08-03</td>\n",
       "      <td>AC08</td>\n",
       "      <td>13</td>\n",
       "      <td>1</td>\n",
       "      <td>510</td>\n",
       "      <td>11</td>\n",
       "      <td>6250</td>\n",
       "      <td>A</td>\n",
       "      <td>C</td>\n",
       "      <td>JANETE APARECIDA ANDRADE</td>\n",
       "      <td>NORDESTE</td>\n",
       "      <td>Ar-Condicionado</td>\n",
       "      <td>Cônsul</td>\n",
       "    </tr>\n",
       "    <tr>\n",
       "      <th>2</th>\n",
       "      <td>2002-12-03</td>\n",
       "      <td>AC08</td>\n",
       "      <td>13</td>\n",
       "      <td>5</td>\n",
       "      <td>2550</td>\n",
       "      <td>12</td>\n",
       "      <td>5468</td>\n",
       "      <td>A</td>\n",
       "      <td>C</td>\n",
       "      <td>JANETE APARECIDA ANDRADE</td>\n",
       "      <td>NORDESTE</td>\n",
       "      <td>Ar-Condicionado</td>\n",
       "      <td>Cônsul</td>\n",
       "    </tr>\n",
       "    <tr>\n",
       "      <th>3</th>\n",
       "      <td>2002-03-13</td>\n",
       "      <td>AC08</td>\n",
       "      <td>13</td>\n",
       "      <td>8</td>\n",
       "      <td>4080</td>\n",
       "      <td>10</td>\n",
       "      <td>4530</td>\n",
       "      <td>A</td>\n",
       "      <td>C</td>\n",
       "      <td>JANETE APARECIDA ANDRADE</td>\n",
       "      <td>NORDESTE</td>\n",
       "      <td>Ar-Condicionado</td>\n",
       "      <td>Cônsul</td>\n",
       "    </tr>\n",
       "    <tr>\n",
       "      <th>4</th>\n",
       "      <td>2002-03-14</td>\n",
       "      <td>AC08</td>\n",
       "      <td>13</td>\n",
       "      <td>14</td>\n",
       "      <td>7140</td>\n",
       "      <td>7</td>\n",
       "      <td>3818</td>\n",
       "      <td>A</td>\n",
       "      <td>C</td>\n",
       "      <td>JANETE APARECIDA ANDRADE</td>\n",
       "      <td>NORDESTE</td>\n",
       "      <td>Ar-Condicionado</td>\n",
       "      <td>Cônsul</td>\n",
       "    </tr>\n",
       "  </tbody>\n",
       "</table>\n",
       "</div>"
      ],
      "text/plain": [
       "        DATA COD_ITEM  COD_VENDEDOR  VOLUME_META  RECEITA_META  \\\n",
       "0 2002-01-03     AC08            13           13          6630   \n",
       "1 2002-08-03     AC08            13            1           510   \n",
       "2 2002-12-03     AC08            13            5          2550   \n",
       "3 2002-03-13     AC08            13            8          4080   \n",
       "4 2002-03-14     AC08            13           14          7140   \n",
       "\n",
       "   VOLUME_FATURADO  RECEITA_FATURADO COD_PRODUTO COD_MARCA  \\\n",
       "0                6              3102           A         C   \n",
       "1               11              6250           A         C   \n",
       "2               12              5468           A         C   \n",
       "3               10              4530           A         C   \n",
       "4                7              3818           A         C   \n",
       "\n",
       "              NOME_VENDEDOR    FILIAL     NOME_PRODUTO NOME_MARCA  \n",
       "0  JANETE APARECIDA ANDRADE  NORDESTE  Ar-Condicionado     Cônsul  \n",
       "1  JANETE APARECIDA ANDRADE  NORDESTE  Ar-Condicionado     Cônsul  \n",
       "2  JANETE APARECIDA ANDRADE  NORDESTE  Ar-Condicionado     Cônsul  \n",
       "3  JANETE APARECIDA ANDRADE  NORDESTE  Ar-Condicionado     Cônsul  \n",
       "4  JANETE APARECIDA ANDRADE  NORDESTE  Ar-Condicionado     Cônsul  "
      ]
     },
     "execution_count": 30,
     "metadata": {},
     "output_type": "execute_result"
    }
   ],
   "source": [
    "data.head()"
   ]
  },
  {
   "cell_type": "code",
   "execution_count": 34,
   "metadata": {},
   "outputs": [
    {
     "data": {
      "text/html": [
       "<div>\n",
       "<style>\n",
       "    .dataframe thead tr:only-child th {\n",
       "        text-align: right;\n",
       "    }\n",
       "\n",
       "    .dataframe thead th {\n",
       "        text-align: left;\n",
       "    }\n",
       "\n",
       "    .dataframe tbody tr th {\n",
       "        vertical-align: top;\n",
       "    }\n",
       "</style>\n",
       "<table border=\"1\" class=\"dataframe\">\n",
       "  <thead>\n",
       "    <tr style=\"text-align: right;\">\n",
       "      <th></th>\n",
       "      <th>COD_VENDEDOR</th>\n",
       "      <th>VOLUME_META</th>\n",
       "      <th>RECEITA_META</th>\n",
       "      <th>VOLUME_FATURADO</th>\n",
       "      <th>RECEITA_FATURADO</th>\n",
       "    </tr>\n",
       "  </thead>\n",
       "  <tbody>\n",
       "    <tr>\n",
       "      <th>count</th>\n",
       "      <td>6675.000000</td>\n",
       "      <td>6675.000000</td>\n",
       "      <td>6675.000000</td>\n",
       "      <td>6675.000000</td>\n",
       "      <td>6675.000000</td>\n",
       "    </tr>\n",
       "    <tr>\n",
       "      <th>mean</th>\n",
       "      <td>248.585468</td>\n",
       "      <td>9.268464</td>\n",
       "      <td>6269.421723</td>\n",
       "      <td>9.292734</td>\n",
       "      <td>6548.154157</td>\n",
       "    </tr>\n",
       "    <tr>\n",
       "      <th>std</th>\n",
       "      <td>424.717730</td>\n",
       "      <td>5.539069</td>\n",
       "      <td>4641.905489</td>\n",
       "      <td>5.459443</td>\n",
       "      <td>4746.902883</td>\n",
       "    </tr>\n",
       "    <tr>\n",
       "      <th>min</th>\n",
       "      <td>1.000000</td>\n",
       "      <td>1.000000</td>\n",
       "      <td>300.000000</td>\n",
       "      <td>1.000000</td>\n",
       "      <td>250.000000</td>\n",
       "    </tr>\n",
       "    <tr>\n",
       "      <th>25%</th>\n",
       "      <td>9.000000</td>\n",
       "      <td>5.000000</td>\n",
       "      <td>2800.000000</td>\n",
       "      <td>5.000000</td>\n",
       "      <td>3083.500000</td>\n",
       "    </tr>\n",
       "    <tr>\n",
       "      <th>50%</th>\n",
       "      <td>18.000000</td>\n",
       "      <td>9.000000</td>\n",
       "      <td>5390.000000</td>\n",
       "      <td>9.000000</td>\n",
       "      <td>5535.000000</td>\n",
       "    </tr>\n",
       "    <tr>\n",
       "      <th>75%</th>\n",
       "      <td>32.000000</td>\n",
       "      <td>13.000000</td>\n",
       "      <td>8260.000000</td>\n",
       "      <td>13.000000</td>\n",
       "      <td>8779.000000</td>\n",
       "    </tr>\n",
       "    <tr>\n",
       "      <th>max</th>\n",
       "      <td>1265.000000</td>\n",
       "      <td>45.000000</td>\n",
       "      <td>51750.000000</td>\n",
       "      <td>51.000000</td>\n",
       "      <td>44406.000000</td>\n",
       "    </tr>\n",
       "  </tbody>\n",
       "</table>\n",
       "</div>"
      ],
      "text/plain": [
       "       COD_VENDEDOR  VOLUME_META  RECEITA_META  VOLUME_FATURADO  \\\n",
       "count   6675.000000  6675.000000   6675.000000      6675.000000   \n",
       "mean     248.585468     9.268464   6269.421723         9.292734   \n",
       "std      424.717730     5.539069   4641.905489         5.459443   \n",
       "min        1.000000     1.000000    300.000000         1.000000   \n",
       "25%        9.000000     5.000000   2800.000000         5.000000   \n",
       "50%       18.000000     9.000000   5390.000000         9.000000   \n",
       "75%       32.000000    13.000000   8260.000000        13.000000   \n",
       "max     1265.000000    45.000000  51750.000000        51.000000   \n",
       "\n",
       "       RECEITA_FATURADO  \n",
       "count       6675.000000  \n",
       "mean        6548.154157  \n",
       "std         4746.902883  \n",
       "min          250.000000  \n",
       "25%         3083.500000  \n",
       "50%         5535.000000  \n",
       "75%         8779.000000  \n",
       "max        44406.000000  "
      ]
     },
     "execution_count": 34,
     "metadata": {},
     "output_type": "execute_result"
    }
   ],
   "source": [
    "data.describe()"
   ]
  },
  {
   "cell_type": "markdown",
   "metadata": {},
   "source": [
    "Dados possuem informações faltantes. Abaixo tais informações faltantes são mostradas.\n",
    "Os dados faltantes podem ser preenchidos com algum valor padrão, como 'DESCONHECIDO', ou simplesmente ser descartados."
   ]
  },
  {
   "cell_type": "code",
   "execution_count": 35,
   "metadata": {
    "scrolled": true
   },
   "outputs": [
    {
     "data": {
      "text/plain": [
       "DATA                  0\n",
       "COD_ITEM              0\n",
       "COD_VENDEDOR          0\n",
       "VOLUME_META           0\n",
       "RECEITA_META          0\n",
       "VOLUME_FATURADO       0\n",
       "RECEITA_FATURADO      0\n",
       "COD_PRODUTO           0\n",
       "COD_MARCA             0\n",
       "NOME_VENDEDOR       556\n",
       "FILIAL              556\n",
       "NOME_PRODUTO          0\n",
       "NOME_MARCA            0\n",
       "dtype: int64"
      ]
     },
     "execution_count": 35,
     "metadata": {},
     "output_type": "execute_result"
    }
   ],
   "source": [
    "data.isnull().sum()"
   ]
  },
  {
   "cell_type": "markdown",
   "metadata": {},
   "source": [
    "Podemos ver quais são os casos em que tem valores faltando."
   ]
  },
  {
   "cell_type": "code",
   "execution_count": 36,
   "metadata": {
    "scrolled": false
   },
   "outputs": [
    {
     "data": {
      "text/html": [
       "<div>\n",
       "<style>\n",
       "    .dataframe thead tr:only-child th {\n",
       "        text-align: right;\n",
       "    }\n",
       "\n",
       "    .dataframe thead th {\n",
       "        text-align: left;\n",
       "    }\n",
       "\n",
       "    .dataframe tbody tr th {\n",
       "        vertical-align: top;\n",
       "    }\n",
       "</style>\n",
       "<table border=\"1\" class=\"dataframe\">\n",
       "  <thead>\n",
       "    <tr style=\"text-align: right;\">\n",
       "      <th></th>\n",
       "      <th>DATA</th>\n",
       "      <th>COD_ITEM</th>\n",
       "      <th>COD_VENDEDOR</th>\n",
       "      <th>VOLUME_META</th>\n",
       "      <th>RECEITA_META</th>\n",
       "      <th>VOLUME_FATURADO</th>\n",
       "      <th>RECEITA_FATURADO</th>\n",
       "      <th>COD_PRODUTO</th>\n",
       "      <th>COD_MARCA</th>\n",
       "      <th>NOME_VENDEDOR</th>\n",
       "      <th>FILIAL</th>\n",
       "      <th>NOME_PRODUTO</th>\n",
       "      <th>NOME_MARCA</th>\n",
       "    </tr>\n",
       "  </thead>\n",
       "  <tbody>\n",
       "    <tr>\n",
       "      <th>369</th>\n",
       "      <td>2002-08-03</td>\n",
       "      <td>AC08</td>\n",
       "      <td>1004</td>\n",
       "      <td>9</td>\n",
       "      <td>4590</td>\n",
       "      <td>4</td>\n",
       "      <td>1768</td>\n",
       "      <td>A</td>\n",
       "      <td>C</td>\n",
       "      <td>NaN</td>\n",
       "      <td>NaN</td>\n",
       "      <td>Ar-Condicionado</td>\n",
       "      <td>Cônsul</td>\n",
       "    </tr>\n",
       "    <tr>\n",
       "      <th>370</th>\n",
       "      <td>2002-11-03</td>\n",
       "      <td>AC08</td>\n",
       "      <td>1004</td>\n",
       "      <td>6</td>\n",
       "      <td>3060</td>\n",
       "      <td>9</td>\n",
       "      <td>5398</td>\n",
       "      <td>A</td>\n",
       "      <td>C</td>\n",
       "      <td>NaN</td>\n",
       "      <td>NaN</td>\n",
       "      <td>Ar-Condicionado</td>\n",
       "      <td>Cônsul</td>\n",
       "    </tr>\n",
       "    <tr>\n",
       "      <th>371</th>\n",
       "      <td>2002-03-18</td>\n",
       "      <td>AC08</td>\n",
       "      <td>1004</td>\n",
       "      <td>15</td>\n",
       "      <td>7650</td>\n",
       "      <td>5</td>\n",
       "      <td>2771</td>\n",
       "      <td>A</td>\n",
       "      <td>C</td>\n",
       "      <td>NaN</td>\n",
       "      <td>NaN</td>\n",
       "      <td>Ar-Condicionado</td>\n",
       "      <td>Cônsul</td>\n",
       "    </tr>\n",
       "    <tr>\n",
       "      <th>372</th>\n",
       "      <td>2002-03-28</td>\n",
       "      <td>AC08</td>\n",
       "      <td>1004</td>\n",
       "      <td>2</td>\n",
       "      <td>1020</td>\n",
       "      <td>8</td>\n",
       "      <td>3993</td>\n",
       "      <td>A</td>\n",
       "      <td>C</td>\n",
       "      <td>NaN</td>\n",
       "      <td>NaN</td>\n",
       "      <td>Ar-Condicionado</td>\n",
       "      <td>Cônsul</td>\n",
       "    </tr>\n",
       "    <tr>\n",
       "      <th>373</th>\n",
       "      <td>2002-07-04</td>\n",
       "      <td>AC08</td>\n",
       "      <td>1004</td>\n",
       "      <td>2</td>\n",
       "      <td>1020</td>\n",
       "      <td>2</td>\n",
       "      <td>1198</td>\n",
       "      <td>A</td>\n",
       "      <td>C</td>\n",
       "      <td>NaN</td>\n",
       "      <td>NaN</td>\n",
       "      <td>Ar-Condicionado</td>\n",
       "      <td>Cônsul</td>\n",
       "    </tr>\n",
       "  </tbody>\n",
       "</table>\n",
       "</div>"
      ],
      "text/plain": [
       "          DATA COD_ITEM  COD_VENDEDOR  VOLUME_META  RECEITA_META  \\\n",
       "369 2002-08-03     AC08          1004            9          4590   \n",
       "370 2002-11-03     AC08          1004            6          3060   \n",
       "371 2002-03-18     AC08          1004           15          7650   \n",
       "372 2002-03-28     AC08          1004            2          1020   \n",
       "373 2002-07-04     AC08          1004            2          1020   \n",
       "\n",
       "     VOLUME_FATURADO  RECEITA_FATURADO COD_PRODUTO COD_MARCA NOME_VENDEDOR  \\\n",
       "369                4              1768           A         C           NaN   \n",
       "370                9              5398           A         C           NaN   \n",
       "371                5              2771           A         C           NaN   \n",
       "372                8              3993           A         C           NaN   \n",
       "373                2              1198           A         C           NaN   \n",
       "\n",
       "    FILIAL     NOME_PRODUTO NOME_MARCA  \n",
       "369    NaN  Ar-Condicionado     Cônsul  \n",
       "370    NaN  Ar-Condicionado     Cônsul  \n",
       "371    NaN  Ar-Condicionado     Cônsul  \n",
       "372    NaN  Ar-Condicionado     Cônsul  \n",
       "373    NaN  Ar-Condicionado     Cônsul  "
      ]
     },
     "execution_count": 36,
     "metadata": {},
     "output_type": "execute_result"
    }
   ],
   "source": [
    "data[(data['FILIAL'].isnull()) & (data['NOME_VENDEDOR'].isnull())].head()"
   ]
  },
  {
   "cell_type": "code",
   "execution_count": 37,
   "metadata": {
    "scrolled": false
   },
   "outputs": [
    {
     "data": {
      "image/png": "[encoded data removed]",
      "text/plain": [
       "<matplotlib.figure.Figure at 0x7f3844971ef0>"
      ]
     },
     "metadata": {},
     "output_type": "display_data"
    },
    {
     "data": {
      "image/png": "[encoded data removed]",
      "text/plain": [
       "<matplotlib.figure.Figure at 0x7f384490a2b0>"
      ]
     },
     "metadata": {},
     "output_type": "display_data"
    }
   ],
   "source": [
    "msno.matrix(df=data, figsize=(20, 3)) #Grafico de valores faltantes\n",
    "msno.bar(df=data,figsize=(20,3),fontsize=18,labels=True)"
   ]
  },
  {
   "cell_type": "code",
   "execution_count": 38,
   "metadata": {
    "scrolled": true
   },
   "outputs": [
    {
     "data": {
      "text/plain": [
       "DATA                0\n",
       "COD_ITEM            0\n",
       "COD_VENDEDOR        0\n",
       "VOLUME_META         0\n",
       "RECEITA_META        0\n",
       "VOLUME_FATURADO     0\n",
       "RECEITA_FATURADO    0\n",
       "COD_PRODUTO         0\n",
       "COD_MARCA           0\n",
       "NOME_VENDEDOR       0\n",
       "FILIAL              0\n",
       "NOME_PRODUTO        0\n",
       "NOME_MARCA          0\n",
       "dtype: int64"
      ]
     },
     "execution_count": 38,
     "metadata": {},
     "output_type": "execute_result"
    }
   ],
   "source": [
    "data_completo = data.fillna(value='DESCONHECIDO') #Criando uma base que preserva a linhas com NaN\n",
    "data  = data.dropna() #Retirando as linhas com valores vazios\n",
    "data.isnull().sum()"
   ]
  },
  {
   "cell_type": "code",
   "execution_count": 39,
   "metadata": {
    "scrolled": true
   },
   "outputs": [
    {
     "data": {
      "text/html": [
       "<div>\n",
       "<style>\n",
       "    .dataframe thead tr:only-child th {\n",
       "        text-align: right;\n",
       "    }\n",
       "\n",
       "    .dataframe thead th {\n",
       "        text-align: left;\n",
       "    }\n",
       "\n",
       "    .dataframe tbody tr th {\n",
       "        vertical-align: top;\n",
       "    }\n",
       "</style>\n",
       "<table border=\"1\" class=\"dataframe\">\n",
       "  <thead>\n",
       "    <tr style=\"text-align: right;\">\n",
       "      <th></th>\n",
       "      <th>COD_VENDEDOR</th>\n",
       "      <th>VOLUME_META</th>\n",
       "      <th>RECEITA_META</th>\n",
       "      <th>VOLUME_FATURADO</th>\n",
       "      <th>RECEITA_FATURADO</th>\n",
       "    </tr>\n",
       "  </thead>\n",
       "  <tbody>\n",
       "    <tr>\n",
       "      <th>count</th>\n",
       "      <td>6119.000000</td>\n",
       "      <td>6119.000000</td>\n",
       "      <td>6119.000000</td>\n",
       "      <td>6119.000000</td>\n",
       "      <td>6119.000000</td>\n",
       "    </tr>\n",
       "    <tr>\n",
       "      <th>mean</th>\n",
       "      <td>226.286975</td>\n",
       "      <td>9.299395</td>\n",
       "      <td>6283.857656</td>\n",
       "      <td>9.304788</td>\n",
       "      <td>6550.415918</td>\n",
       "    </tr>\n",
       "    <tr>\n",
       "      <th>std</th>\n",
       "      <td>409.883731</td>\n",
       "      <td>5.577935</td>\n",
       "      <td>4672.144964</td>\n",
       "      <td>5.505363</td>\n",
       "      <td>4793.584658</td>\n",
       "    </tr>\n",
       "    <tr>\n",
       "      <th>min</th>\n",
       "      <td>1.000000</td>\n",
       "      <td>1.000000</td>\n",
       "      <td>300.000000</td>\n",
       "      <td>1.000000</td>\n",
       "      <td>250.000000</td>\n",
       "    </tr>\n",
       "    <tr>\n",
       "      <th>25%</th>\n",
       "      <td>9.000000</td>\n",
       "      <td>5.000000</td>\n",
       "      <td>2800.000000</td>\n",
       "      <td>5.000000</td>\n",
       "      <td>3063.000000</td>\n",
       "    </tr>\n",
       "    <tr>\n",
       "      <th>50%</th>\n",
       "      <td>18.000000</td>\n",
       "      <td>9.000000</td>\n",
       "      <td>5390.000000</td>\n",
       "      <td>9.000000</td>\n",
       "      <td>5513.000000</td>\n",
       "    </tr>\n",
       "    <tr>\n",
       "      <th>75%</th>\n",
       "      <td>32.000000</td>\n",
       "      <td>13.000000</td>\n",
       "      <td>8260.000000</td>\n",
       "      <td>13.000000</td>\n",
       "      <td>8791.000000</td>\n",
       "    </tr>\n",
       "    <tr>\n",
       "      <th>max</th>\n",
       "      <td>1265.000000</td>\n",
       "      <td>45.000000</td>\n",
       "      <td>51750.000000</td>\n",
       "      <td>51.000000</td>\n",
       "      <td>44406.000000</td>\n",
       "    </tr>\n",
       "  </tbody>\n",
       "</table>\n",
       "</div>"
      ],
      "text/plain": [
       "       COD_VENDEDOR  VOLUME_META  RECEITA_META  VOLUME_FATURADO  \\\n",
       "count   6119.000000  6119.000000   6119.000000      6119.000000   \n",
       "mean     226.286975     9.299395   6283.857656         9.304788   \n",
       "std      409.883731     5.577935   4672.144964         5.505363   \n",
       "min        1.000000     1.000000    300.000000         1.000000   \n",
       "25%        9.000000     5.000000   2800.000000         5.000000   \n",
       "50%       18.000000     9.000000   5390.000000         9.000000   \n",
       "75%       32.000000    13.000000   8260.000000        13.000000   \n",
       "max     1265.000000    45.000000  51750.000000        51.000000   \n",
       "\n",
       "       RECEITA_FATURADO  \n",
       "count       6119.000000  \n",
       "mean        6550.415918  \n",
       "std         4793.584658  \n",
       "min          250.000000  \n",
       "25%         3063.000000  \n",
       "50%         5513.000000  \n",
       "75%         8791.000000  \n",
       "max        44406.000000  "
      ]
     },
     "execution_count": 39,
     "metadata": {},
     "output_type": "execute_result"
    }
   ],
   "source": [
    "data.describe()"
   ]
  },
  {
   "cell_type": "code",
   "execution_count": 113,
   "metadata": {
    "collapsed": true,
    "scrolled": true
   },
   "outputs": [],
   "source": [
    "def guess_metadata(dataframe):\n",
    "    ''' Pandas library, import pandas as pd'''\n",
    "    ''' This function returns:\n",
    "        variables = Dataframe with each variable and its type\n",
    "        vartypes  = A dictionary for easier filtering of variables types'''\n",
    "    \n",
    "    df = dataframe\n",
    "    variables = []\n",
    "    vartypes = {}\n",
    "    alltypes = ['nominal','binary','ordinal','continuos','datetime','unique'] #Essa é minha própria nomenclatura\n",
    "    for variable in df.columns:\n",
    "    #     print(variable)\n",
    "        if len(pd.unique(df[variable].dropna())) == 2:\n",
    "            variables.append([variable,'binary'])\n",
    "        elif len(pd.unique(df[variable].dropna())) == 1:\n",
    "            variables.append([variable,'unique'])\n",
    "        elif df[variable].dtypes == int:\n",
    "            variables.append([variable,'ordinal'])\n",
    "        elif df[variable].dtypes == object:\n",
    "            variables.append([variable,'nominal'])\n",
    "        elif df[variable].dtypes == float:\n",
    "            variables.append([variable,'continuos'])\n",
    "        elif df[variable].dtypes == 'datetime64[ns]':\n",
    "            variables.append([variable,'datetime'])\n",
    "        else:\n",
    "            variables.append([variable,'no type'])\n",
    "            \n",
    "    variables = pd.DataFrame(variables,columns=['name','type'])\n",
    "    for i in alltypes:\n",
    "        vartypes[i]=variables.name[(variables['type']==i)]\n",
    "    return variables, vartypes"
   ]
  },
  {
   "cell_type": "code",
   "execution_count": 114,
   "metadata": {
    "collapsed": true
   },
   "outputs": [],
   "source": [
    "variables, vartypes = guess_metadata(data)"
   ]
  },
  {
   "cell_type": "code",
   "execution_count": 117,
   "metadata": {},
   "outputs": [
    {
     "data": {
      "text/plain": [
       "1          COD_ITEM\n",
       "7       COD_PRODUTO\n",
       "9     NOME_VENDEDOR\n",
       "10           FILIAL\n",
       "11     NOME_PRODUTO\n",
       "Name: name, dtype: object"
      ]
     },
     "execution_count": 117,
     "metadata": {},
     "output_type": "execute_result"
    }
   ],
   "source": [
    "vartypes['nominal']"
   ]
  },
  {
   "cell_type": "code",
   "execution_count": 116,
   "metadata": {
    "collapsed": true
   },
   "outputs": [],
   "source": [
    "def adjust_dataformat(dataframe, variables):\n",
    "    from sklearn import preprocessing\n",
    "    le = preprocessing.LabelEncoder()\n",
    "    df = dataframe.copy() \n",
    "    \n",
    "    for variable in variables:\n",
    "        le.fit(df[variable])\n",
    "        df[variable] = le.transform(data[variable])\n",
    "    return df"
   ]
  },
  {
   "cell_type": "code",
   "execution_count": 126,
   "metadata": {},
   "outputs": [],
   "source": [
    "data = adjust_dataformat(data,vartypes['nominal'])\n",
    "data = adjust_dataformat(data,vartypes['binary'])"
   ]
  },
  {
   "cell_type": "code",
   "execution_count": 128,
   "metadata": {},
   "outputs": [
    {
     "data": {
      "text/plain": [
       "DATA                datetime64[ns]\n",
       "COD_ITEM                     int64\n",
       "COD_VENDEDOR                 int64\n",
       "VOLUME_META                  int64\n",
       "RECEITA_META                 int64\n",
       "VOLUME_FATURADO              int64\n",
       "RECEITA_FATURADO             int64\n",
       "COD_PRODUTO                  int64\n",
       "COD_MARCA                    int64\n",
       "NOME_VENDEDOR                int64\n",
       "FILIAL                       int64\n",
       "NOME_PRODUTO                 int64\n",
       "NOME_MARCA                   int64\n",
       "dtype: object"
      ]
     },
     "execution_count": 128,
     "metadata": {},
     "output_type": "execute_result"
    }
   ],
   "source": [
    "data.dtypes"
   ]
  },
  {
   "cell_type": "code",
   "execution_count": null,
   "metadata": {
    "collapsed": true
   },
   "outputs": [],
   "source": [
    "def checking_outliers()"
   ]
  },
  {
   "cell_type": "code",
   "execution_count": 99,
   "metadata": {
    "collapsed": true
   },
   "outputs": [],
   "source": []
  },
  {
   "cell_type": "code",
   "execution_count": 103,
   "metadata": {},
   "outputs": [
    {
     "name": "stdout",
     "output_type": "stream",
     "text": [
      "Total number of variables 13\n"
     ]
    },
    {
     "data": {
      "text/html": [
       "<div>\n",
       "<style>\n",
       "    .dataframe thead tr:only-child th {\n",
       "        text-align: right;\n",
       "    }\n",
       "\n",
       "    .dataframe thead th {\n",
       "        text-align: left;\n",
       "    }\n",
       "\n",
       "    .dataframe tbody tr th {\n",
       "        vertical-align: top;\n",
       "    }\n",
       "</style>\n",
       "<table border=\"1\" class=\"dataframe\">\n",
       "  <thead>\n",
       "    <tr style=\"text-align: right;\">\n",
       "      <th></th>\n",
       "      <th>name</th>\n",
       "    </tr>\n",
       "    <tr>\n",
       "      <th>type</th>\n",
       "      <th></th>\n",
       "    </tr>\n",
       "  </thead>\n",
       "  <tbody>\n",
       "    <tr>\n",
       "      <th>binary</th>\n",
       "      <td>2</td>\n",
       "    </tr>\n",
       "    <tr>\n",
       "      <th>datetime</th>\n",
       "      <td>1</td>\n",
       "    </tr>\n",
       "    <tr>\n",
       "      <th>nominal</th>\n",
       "      <td>5</td>\n",
       "    </tr>\n",
       "    <tr>\n",
       "      <th>ordinal</th>\n",
       "      <td>5</td>\n",
       "    </tr>\n",
       "  </tbody>\n",
       "</table>\n",
       "</div>"
      ],
      "text/plain": [
       "          name\n",
       "type          \n",
       "binary       2\n",
       "datetime     1\n",
       "nominal      5\n",
       "ordinal      5"
      ]
     },
     "execution_count": 103,
     "metadata": {},
     "output_type": "execute_result"
    }
   ],
   "source": [
    "print('Total number of variables',len(variables))\n",
    "variables.pivot_table(values='name',index='type',aggfunc=\"count\",fill_value=0)"
   ]
  },
  {
   "cell_type": "markdown",
   "metadata": {},
   "source": [
    "## 3. Criando Tabela Dinamica (Pivot Table)\n"
   ]
  },
  {
   "cell_type": "code",
   "execution_count": null,
   "metadata": {
    "collapsed": true
   },
   "outputs": [],
   "source": [
    "pd.pivot_table(data,index=['FILIAL'],values=['VOLUME_META','VOLUME_FATURADO'],aggfunc='sum')"
   ]
  },
  {
   "cell_type": "code",
   "execution_count": null,
   "metadata": {
    "collapsed": true
   },
   "outputs": [],
   "source": [
    "pd.pivot_table(data,index=['FILIAL'],\n",
    "               values=['VOLUME_META','VOLUME_FATURADO'],\n",
    "               aggfunc='sum').plot(kind='bar',figsize=(6,4))\n",
    "# plt.legend(loc=2, bbox_to_anchor=(1.05, 1.0))\n",
    "plt.legend(bbox_to_anchor=(1.05, 1), loc=2, borderaxespad=0.)"
   ]
  },
  {
   "cell_type": "markdown",
   "metadata": {},
   "source": [
    "## 3. Criando Widget para Pivot Table\n",
    "Atraves da biblioteca ipywidgets, criar um widget interativo para escolher opcoes que apareceram no grafico"
   ]
  },
  {
   "cell_type": "code",
   "execution_count": null,
   "metadata": {
    "collapsed": true
   },
   "outputs": [],
   "source": [
    "from ipywidgets import interact, SelectMultiple, Checkbox, RadioButtons, Dropdown\n",
    "from IPython.display import display"
   ]
  },
  {
   "cell_type": "code",
   "execution_count": null,
   "metadata": {
    "collapsed": true
   },
   "outputs": [],
   "source": [
    "def my_pivot(index=list(data.columns)[0], values=list(data.columns)[1], aggfunc='sum', plotting=False):\n",
    "    dfp = data\n",
    "    piv = pd.pivot_table(dfp, index=index, values=values, aggfunc=aggfunc)\n",
    "#     print(piv)\n",
    "    if plotting:\n",
    "        piv.plot(kind='bar',figsize=(6,3))\n",
    "#         sns.barplot(x='FILIAL',y='VOLUME_FATURADO',data=dfp)\n",
    "        plt.legend(bbox_to_anchor=(1.05, 1), loc=2, borderaxespad=0.)"
   ]
  },
  {
   "cell_type": "code",
   "execution_count": null,
   "metadata": {
    "collapsed": true,
    "scrolled": true
   },
   "outputs": [],
   "source": [
    "my_pivot(index=['FILIAL'],values=['VOLUME_FATURADO'],aggfunc='sum',plotting='True')"
   ]
  },
  {
   "cell_type": "markdown",
   "metadata": {},
   "source": [
    "Abaixo tem uma função para utilizar widgets."
   ]
  },
  {
   "cell_type": "code",
   "execution_count": null,
   "metadata": {
    "collapsed": true
   },
   "outputs": [],
   "source": [
    "# i = interact(my_pivot,\n",
    "#              index    = Dropdown(options=list(data.columns)[1:]),\n",
    "#              values   = SelectMultiple(options=list(data.columns)),\n",
    "#              aggfunc  = Dropdown(options=['sum','mean']),\n",
    "#              plotting = RadioButtons(options = [False,True])\n",
    "#             )\n",
    "# display(i)"
   ]
  },
  {
   "cell_type": "markdown",
   "metadata": {
    "collapsed": true
   },
   "source": [
    "## 4. Análise Exploratória com Seaborn"
   ]
  },
  {
   "cell_type": "markdown",
   "metadata": {},
   "source": [
    "Ajustar o esquema de cores"
   ]
  },
  {
   "cell_type": "code",
   "execution_count": null,
   "metadata": {
    "collapsed": true
   },
   "outputs": [],
   "source": [
    "falconiweak = [\"#5f87a1\", \n",
    "           \"#62917f\",\"#af6f65\",\n",
    "           \"#e9d3a1\",\n",
    "           \"#bab9be\"]\n",
    "\n",
    "falconistrong = [\"#3c6e8f\",\n",
    "           \"#35705a\",\"#934f46\",\n",
    "           \"#c7b18a\",\n",
    "           \"#929196\"]\n",
    "falconiblue = [\"#5f87a1\", \"#3c6e8f\"]\n",
    "# sns.palplot(sns.color_palette(falconi))\n",
    "sns.set_palette(falconiweak)"
   ]
  },
  {
   "cell_type": "markdown",
   "metadata": {},
   "source": [
    "Plotando as metas de venda x venda faturada - Por filial."
   ]
  },
  {
   "cell_type": "code",
   "execution_count": null,
   "metadata": {
    "collapsed": true,
    "scrolled": true
   },
   "outputs": [],
   "source": [
    "pd.pivot_table(data,index=['FILIAL'],\n",
    "               values=['VOLUME_META','VOLUME_FATURADO'],\n",
    "               aggfunc='sum').plot(kind='bar',figsize=(10,4))\n",
    "# plt.legend(loc=2, bbox_to_anchor=(1.05, 1.0))\n",
    "plt.legend(bbox_to_anchor=(1.05, 1), loc=2, borderaxespad=0.)\n",
    "locs,labels = plt.yticks()\n",
    "locs = plt.yticks(locs, map(lambda x: \"%.1f\" % x, locs*1e-3))\n",
    "plt.ylabel('R$')\n",
    "text = plt.text(0.0, 1.01, '1e3', fontsize=10, transform = plt.gca().transAxes)"
   ]
  },
  {
   "cell_type": "markdown",
   "metadata": {},
   "source": [
    "Plotando a quantidade de vendas."
   ]
  },
  {
   "cell_type": "code",
   "execution_count": null,
   "metadata": {
    "collapsed": true,
    "scrolled": true
   },
   "outputs": [],
   "source": [
    "plt.figure(figsize=(10,3))\n",
    "sns.countplot(x=data.FILIAL)"
   ]
  },
  {
   "cell_type": "markdown",
   "metadata": {},
   "source": [
    "Utilizando o \"pairplot\" para vizualizar as relação entre todas as variáveis."
   ]
  },
  {
   "cell_type": "code",
   "execution_count": null,
   "metadata": {
    "collapsed": true,
    "scrolled": false
   },
   "outputs": [],
   "source": [
    "g = sns.pairplot(data=data, hue = 'FILIAL',plot_kws={'alpha':0.8})"
   ]
  },
  {
   "cell_type": "markdown",
   "metadata": {},
   "source": [
    "Checando a distribuição de Volume_Faturado por filial."
   ]
  },
  {
   "cell_type": "code",
   "execution_count": null,
   "metadata": {
    "collapsed": true,
    "scrolled": true
   },
   "outputs": [],
   "source": [
    "plt.figure(figsize=(10,5))\n",
    "sns.violinplot(data=data,x='FILIAL',y='VOLUME_FATURADO')"
   ]
  },
  {
   "cell_type": "code",
   "execution_count": null,
   "metadata": {
    "collapsed": true
   },
   "outputs": [],
   "source": [
    "sns.lmplot('VOLUME_FATURADO','RECEITA_FATURADO',data=data,\n",
    "           scatter_kws={\"s\": 50, \"alpha\": 0.6,'edgecolor':'black'})\n",
    "slope, intercept, r_value, p_value, std_err = stats.linregress(data['VOLUME_FATURADO'],data['RECEITA_FATURADO'])\n",
    "print('F(x) = ',slope,'*VOLUME_FATURADO + ', intercept)\n",
    "print('R-Squared = ',r_value,' -------  P-value = ', p_value,'------ Std_Error =', std_err)"
   ]
  },
  {
   "cell_type": "code",
   "execution_count": null,
   "metadata": {
    "collapsed": true
   },
   "outputs": [],
   "source": [
    "sns.lmplot('VOLUME_FATURADO','RECEITA_FATURADO',data=data,col='FILIAL',hue='FILIAL')\n",
    "for filial in pd.unique(data['FILIAL']):\n",
    "    slope, intercept, r_value, p_value, std_err = stats.linregress(data['VOLUME_FATURADO'][data.FILIAL == filial],\n",
    "                                                                   data['RECEITA_FATURADO'][data.FILIAL == filial])\n",
    "    \n",
    "    print('FILIAL =', filial)\n",
    "    print('F(x) = ',slope,'*VOLUME_FATURADO + ', intercept)\n",
    "    print('R-Squared = ',r_value,' -------  P-value = ', p_value,'------ Std_Error =', std_err)\n",
    "    print('    ')"
   ]
  },
  {
   "cell_type": "markdown",
   "metadata": {},
   "source": [
    "#### Visualizando vendas no tempo"
   ]
  },
  {
   "cell_type": "code",
   "execution_count": null,
   "metadata": {
    "collapsed": true
   },
   "outputs": [],
   "source": [
    "data['ANO'] = data.DATA.dt.year\n",
    "data['MES'] = data.DATA.dt.month\n",
    "data['DIA'] = data.DATA.dt.day\n",
    "data['DIA_SEMANA'] = data.DATA.dt.dayofweek"
   ]
  },
  {
   "cell_type": "code",
   "execution_count": null,
   "metadata": {
    "collapsed": true,
    "scrolled": true
   },
   "outputs": [],
   "source": [
    "plt.plot(data.groupby(by='MES')['VOLUME_FATURADO'].sum())"
   ]
  },
  {
   "cell_type": "code",
   "execution_count": null,
   "metadata": {
    "collapsed": true
   },
   "outputs": [],
   "source": [
    "g = sns.factorplot(x=\"MES\", data=data,y =\"VOLUME_FATURADO\",hue='FILIAL',\n",
    "                   palette=\"husl\", size=6, aspect=1.5,ci=None,)"
   ]
  },
  {
   "cell_type": "code",
   "execution_count": null,
   "metadata": {
    "collapsed": true
   },
   "outputs": [],
   "source": []
  }
 ],
 "metadata": {
  "kernelspec": {
   "display_name": "Python (machinepy3)",
   "language": "python",
   "name": "machinepy3"
  },
  "language_info": {
   "codemirror_mode": {
    "name": "ipython",
    "version": 3
   },
   "file_extension": ".py",
   "mimetype": "text/x-python",
   "name": "python",
   "nbconvert_exporter": "python",
   "pygments_lexer": "ipython3",
   "version": "3.5.2"
  },
  "widgets": {
   "state": {
    "4f70efe52e244f5191ec69ee0245481f": {
     "views": [
      {
       "cell_index": 21
      }
     ]
    }
   },
   "version": "1.2.0"
  }
 },
 "nbformat": 4,
 "nbformat_minor": 1
}
